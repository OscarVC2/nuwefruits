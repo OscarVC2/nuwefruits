{
 "cells": [
  {
   "cell_type": "code",
   "execution_count": 145,
   "id": "7f9389d2-a5e1-45c9-98a9-6f673cfa4027",
   "metadata": {},
   "outputs": [],
   "source": [
    "import numpy as np\n",
    "import pandas as pd\n",
    "import matplotlib.pyplot as plt\n",
    "import seaborn as sns\n",
    "import warnings\n",
    "import scipy.stats\n",
    "from scipy.stats import iqr\n",
    "from sklearn.model_selection import train_test_split\n",
    "from imblearn.over_sampling import SMOTE \n",
    "from sklearn.pipeline import make_pipeline\n",
    "from sklearn.preprocessing import StandardScaler\n",
    "import tensorflow as tf\n",
    "from tensorflow import keras\n",
    "from tensorflow.keras import layers\n",
    "from sklearn.metrics import confusion_matrix, classification_report\n",
    "from sklearn.metrics import accuracy_score, f1_score\n",
    "\n",
    "\n",
    "warnings.filterwarnings(\"ignore\")\n",
    "pd.set_option('display.max.rows',169)\n",
    "pd.set_option('display.max.columns',169)\n",
    "pd.set_option('float_format', '{:.2f}'.format)"
   ]
  },
  {
   "cell_type": "markdown",
   "id": "282b1ffd-9629-445a-a984-c29dcd776cb9",
   "metadata": {},
   "source": [
    "# Leyendo los diferentes documentos"
   ]
  },
  {
   "cell_type": "code",
   "execution_count": 2,
   "id": "c3e8805b-6db3-406b-b8bc-0c2a4eb51351",
   "metadata": {},
   "outputs": [],
   "source": [
    "train0 = pd.read_csv('mwc22-client_table.csv')\n",
    "test0 = pd.read_csv(\"mwc22-client_table+-+test_x.csv\")\n",
    "orders = pd.read_csv(\"mwc22-orders_table.csv\")"
   ]
  },
  {
   "cell_type": "markdown",
   "id": "a8d2c531-2212-474f-b6e9-a019eb1e8d1f",
   "metadata": {},
   "source": [
    "# Datos train"
   ]
  },
  {
   "cell_type": "code",
   "execution_count": 3,
   "id": "fda4d669-1ea9-4dd1-b6c7-6bf534d6c013",
   "metadata": {},
   "outputs": [
    {
     "data": {
      "text/plain": [
       "(35884, 5)"
      ]
     },
     "execution_count": 3,
     "metadata": {},
     "output_type": "execute_result"
    }
   ],
   "source": [
    "train0.shape"
   ]
  },
  {
   "cell_type": "code",
   "execution_count": 4,
   "id": "2fc9c7d8-3745-488d-9b47-584d1cb6671e",
   "metadata": {},
   "outputs": [
    {
     "data": {
      "text/html": [
       "<div>\n",
       "<style scoped>\n",
       "    .dataframe tbody tr th:only-of-type {\n",
       "        vertical-align: middle;\n",
       "    }\n",
       "\n",
       "    .dataframe tbody tr th {\n",
       "        vertical-align: top;\n",
       "    }\n",
       "\n",
       "    .dataframe thead th {\n",
       "        text-align: right;\n",
       "    }\n",
       "</style>\n",
       "<table border=\"1\" class=\"dataframe\">\n",
       "  <thead>\n",
       "    <tr style=\"text-align: right;\">\n",
       "      <th></th>\n",
       "      <th>CLIENT ID</th>\n",
       "      <th>CLIENT_SEGMENT</th>\n",
       "      <th>AVG CONSO</th>\n",
       "      <th>AVG BASKET SIZE</th>\n",
       "      <th>RECEIVED_COMMUNICATION</th>\n",
       "    </tr>\n",
       "  </thead>\n",
       "  <tbody>\n",
       "    <tr>\n",
       "      <th>0</th>\n",
       "      <td>24321771</td>\n",
       "      <td>6</td>\n",
       "      <td>67,25</td>\n",
       "      <td>201,75</td>\n",
       "      <td>0</td>\n",
       "    </tr>\n",
       "    <tr>\n",
       "      <th>1</th>\n",
       "      <td>24321859</td>\n",
       "      <td>2</td>\n",
       "      <td>58,33</td>\n",
       "      <td>350</td>\n",
       "      <td>0</td>\n",
       "    </tr>\n",
       "    <tr>\n",
       "      <th>2</th>\n",
       "      <td>24321880</td>\n",
       "      <td>3</td>\n",
       "      <td>46,67</td>\n",
       "      <td>112</td>\n",
       "      <td>0</td>\n",
       "    </tr>\n",
       "    <tr>\n",
       "      <th>3</th>\n",
       "      <td>24321957</td>\n",
       "      <td>2</td>\n",
       "      <td>50</td>\n",
       "      <td>600</td>\n",
       "      <td>0</td>\n",
       "    </tr>\n",
       "    <tr>\n",
       "      <th>4</th>\n",
       "      <td>24321962</td>\n",
       "      <td>4</td>\n",
       "      <td>10</td>\n",
       "      <td>120</td>\n",
       "      <td>0</td>\n",
       "    </tr>\n",
       "  </tbody>\n",
       "</table>\n",
       "</div>"
      ],
      "text/plain": [
       "   CLIENT ID  CLIENT_SEGMENT AVG CONSO AVG BASKET SIZE  RECEIVED_COMMUNICATION\n",
       "0   24321771               6     67,25          201,75                       0\n",
       "1   24321859               2     58,33             350                       0\n",
       "2   24321880               3     46,67             112                       0\n",
       "3   24321957               2        50             600                       0\n",
       "4   24321962               4        10             120                       0"
      ]
     },
     "execution_count": 4,
     "metadata": {},
     "output_type": "execute_result"
    }
   ],
   "source": [
    "train0.head()"
   ]
  },
  {
   "cell_type": "code",
   "execution_count": 5,
   "id": "2bad4963-e973-4b6e-ba7d-8ed0ee054573",
   "metadata": {},
   "outputs": [
    {
     "name": "stdout",
     "output_type": "stream",
     "text": [
      "<class 'pandas.core.frame.DataFrame'>\n",
      "RangeIndex: 35884 entries, 0 to 35883\n",
      "Data columns (total 5 columns):\n",
      " #   Column                  Non-Null Count  Dtype \n",
      "---  ------                  --------------  ----- \n",
      " 0   CLIENT ID               35884 non-null  int64 \n",
      " 1   CLIENT_SEGMENT          35884 non-null  int64 \n",
      " 2   AVG CONSO               35884 non-null  object\n",
      " 3   AVG BASKET SIZE         35884 non-null  object\n",
      " 4   RECEIVED_COMMUNICATION  35884 non-null  int64 \n",
      "dtypes: int64(3), object(2)\n",
      "memory usage: 1.4+ MB\n"
     ]
    }
   ],
   "source": [
    "train0.info()"
   ]
  },
  {
   "cell_type": "code",
   "execution_count": 6,
   "id": "dc9bfa84-9f70-410c-85df-5d4548d05432",
   "metadata": {},
   "outputs": [
    {
     "data": {
      "image/png": "[encoded data removed]",
      "text/plain": [
       "<Figure size 720x360 with 1 Axes>"
      ]
     },
     "metadata": {
      "needs_background": "light"
     },
     "output_type": "display_data"
    }
   ],
   "source": [
    "plt.figure(figsize = (10,5))\n",
    "sns.countplot(data = train0, x = 'CLIENT_SEGMENT')\n",
    "plt.xticks(rotation = 90)\n",
    "plt.show()"
   ]
  },
  {
   "cell_type": "code",
   "execution_count": 7,
   "id": "00016539-785f-446c-b4ba-9cafa4c35b4d",
   "metadata": {},
   "outputs": [
    {
     "data": {
      "image/png": "[encoded data removed]",
      "text/plain": [
       "<Figure size 720x360 with 1 Axes>"
      ]
     },
     "metadata": {
      "needs_background": "light"
     },
     "output_type": "display_data"
    }
   ],
   "source": [
    "plt.figure(figsize = (10,5))\n",
    "sns.countplot(data = train0, x = 'RECEIVED_COMMUNICATION')\n",
    "plt.xticks(rotation = 90)\n",
    "plt.show()"
   ]
  },
  {
   "cell_type": "markdown",
   "id": "e5260508-bfc1-461c-8ab5-092516ac280a",
   "metadata": {},
   "source": [
    "# Datos Test"
   ]
  },
  {
   "cell_type": "code",
   "execution_count": 8,
   "id": "f33df8a9-2d42-43c0-9429-11a53c58eaa6",
   "metadata": {},
   "outputs": [
    {
     "data": {
      "text/plain": [
       "(19, 4)"
      ]
     },
     "execution_count": 8,
     "metadata": {},
     "output_type": "execute_result"
    }
   ],
   "source": [
    "test0.shape"
   ]
  },
  {
   "cell_type": "code",
   "execution_count": 9,
   "id": "5c0d500c-032b-4923-87a4-59738ba675d7",
   "metadata": {},
   "outputs": [
    {
     "data": {
      "text/html": [
       "<div>\n",
       "<style scoped>\n",
       "    .dataframe tbody tr th:only-of-type {\n",
       "        vertical-align: middle;\n",
       "    }\n",
       "\n",
       "    .dataframe tbody tr th {\n",
       "        vertical-align: top;\n",
       "    }\n",
       "\n",
       "    .dataframe thead th {\n",
       "        text-align: right;\n",
       "    }\n",
       "</style>\n",
       "<table border=\"1\" class=\"dataframe\">\n",
       "  <thead>\n",
       "    <tr style=\"text-align: right;\">\n",
       "      <th></th>\n",
       "      <th>CLIENT ID</th>\n",
       "      <th>AVG CONSO</th>\n",
       "      <th>AVG BASKET SIZE</th>\n",
       "      <th>RECEIVED_COMMUNICATION</th>\n",
       "    </tr>\n",
       "  </thead>\n",
       "  <tbody>\n",
       "    <tr>\n",
       "      <th>0</th>\n",
       "      <td>48352078</td>\n",
       "      <td>8,33</td>\n",
       "      <td>100</td>\n",
       "      <td>0</td>\n",
       "    </tr>\n",
       "    <tr>\n",
       "      <th>1</th>\n",
       "      <td>18072186</td>\n",
       "      <td>93,42</td>\n",
       "      <td>186,83</td>\n",
       "      <td>1</td>\n",
       "    </tr>\n",
       "    <tr>\n",
       "      <th>2</th>\n",
       "      <td>48352246</td>\n",
       "      <td>45,83</td>\n",
       "      <td>137,5</td>\n",
       "      <td>0</td>\n",
       "    </tr>\n",
       "    <tr>\n",
       "      <th>3</th>\n",
       "      <td>18070621</td>\n",
       "      <td>16,67</td>\n",
       "      <td>200</td>\n",
       "      <td>1</td>\n",
       "    </tr>\n",
       "    <tr>\n",
       "      <th>4</th>\n",
       "      <td>48352262</td>\n",
       "      <td>13,33</td>\n",
       "      <td>160</td>\n",
       "      <td>0</td>\n",
       "    </tr>\n",
       "  </tbody>\n",
       "</table>\n",
       "</div>"
      ],
      "text/plain": [
       "   CLIENT ID AVG CONSO AVG BASKET SIZE  RECEIVED_COMMUNICATION\n",
       "0   48352078      8,33             100                       0\n",
       "1   18072186     93,42          186,83                       1\n",
       "2   48352246     45,83           137,5                       0\n",
       "3   18070621     16,67             200                       1\n",
       "4   48352262     13,33             160                       0"
      ]
     },
     "execution_count": 9,
     "metadata": {},
     "output_type": "execute_result"
    }
   ],
   "source": [
    "test0.head()"
   ]
  },
  {
   "cell_type": "code",
   "execution_count": 10,
   "id": "1bdebafd-59af-479f-aaa3-8504f7bf4ce9",
   "metadata": {},
   "outputs": [
    {
     "name": "stdout",
     "output_type": "stream",
     "text": [
      "<class 'pandas.core.frame.DataFrame'>\n",
      "RangeIndex: 19 entries, 0 to 18\n",
      "Data columns (total 4 columns):\n",
      " #   Column                  Non-Null Count  Dtype \n",
      "---  ------                  --------------  ----- \n",
      " 0   CLIENT ID               19 non-null     int64 \n",
      " 1   AVG CONSO               19 non-null     object\n",
      " 2   AVG BASKET SIZE         19 non-null     object\n",
      " 3   RECEIVED_COMMUNICATION  19 non-null     int64 \n",
      "dtypes: int64(2), object(2)\n",
      "memory usage: 736.0+ bytes\n"
     ]
    }
   ],
   "source": [
    "test0.info()"
   ]
  },
  {
   "cell_type": "code",
   "execution_count": 11,
   "id": "eaad9c0a-1956-410b-b98d-18acb67a7ed4",
   "metadata": {},
   "outputs": [
    {
     "data": {
      "image/png": "[encoded data removed]",
      "text/plain": [
       "<Figure size 720x360 with 1 Axes>"
      ]
     },
     "metadata": {
      "needs_background": "light"
     },
     "output_type": "display_data"
    }
   ],
   "source": [
    "plt.figure(figsize = (10,5))\n",
    "sns.countplot(data = test0, x = 'RECEIVED_COMMUNICATION')\n",
    "plt.xticks(rotation = 90)\n",
    "plt.show()"
   ]
  },
  {
   "cell_type": "markdown",
   "id": "aaa4e8db-12eb-47f9-a97f-d418e468b54d",
   "metadata": {},
   "source": [
    "# Datos de ordenes"
   ]
  },
  {
   "cell_type": "code",
   "execution_count": 12,
   "id": "ab609ac8-09bb-42f9-a443-d8d1b6095298",
   "metadata": {},
   "outputs": [
    {
     "data": {
      "text/plain": [
       "(66912, 4)"
      ]
     },
     "execution_count": 12,
     "metadata": {},
     "output_type": "execute_result"
    }
   ],
   "source": [
    "orders.shape"
   ]
  },
  {
   "cell_type": "code",
   "execution_count": 13,
   "id": "08f1992d-95a9-4c5e-b1c1-41e127ae8415",
   "metadata": {},
   "outputs": [
    {
     "data": {
      "text/html": [
       "<div>\n",
       "<style scoped>\n",
       "    .dataframe tbody tr th:only-of-type {\n",
       "        vertical-align: middle;\n",
       "    }\n",
       "\n",
       "    .dataframe tbody tr th {\n",
       "        vertical-align: top;\n",
       "    }\n",
       "\n",
       "    .dataframe thead th {\n",
       "        text-align: right;\n",
       "    }\n",
       "</style>\n",
       "<table border=\"1\" class=\"dataframe\">\n",
       "  <thead>\n",
       "    <tr style=\"text-align: right;\">\n",
       "      <th></th>\n",
       "      <th>CLIENT ID</th>\n",
       "      <th>NB PRODS</th>\n",
       "      <th>ORDER ID</th>\n",
       "      <th>FRUIT_PRODUCT</th>\n",
       "    </tr>\n",
       "  </thead>\n",
       "  <tbody>\n",
       "    <tr>\n",
       "      <th>0</th>\n",
       "      <td>18070505</td>\n",
       "      <td>5</td>\n",
       "      <td>671907264</td>\n",
       "      <td>Apple</td>\n",
       "    </tr>\n",
       "    <tr>\n",
       "      <th>1</th>\n",
       "      <td>18070505</td>\n",
       "      <td>10</td>\n",
       "      <td>671907264</td>\n",
       "      <td>Orange</td>\n",
       "    </tr>\n",
       "    <tr>\n",
       "      <th>2</th>\n",
       "      <td>18070505</td>\n",
       "      <td>5</td>\n",
       "      <td>671907264</td>\n",
       "      <td>Kiwi</td>\n",
       "    </tr>\n",
       "    <tr>\n",
       "      <th>3</th>\n",
       "      <td>18070505</td>\n",
       "      <td>10</td>\n",
       "      <td>671907264</td>\n",
       "      <td>Pear</td>\n",
       "    </tr>\n",
       "    <tr>\n",
       "      <th>4</th>\n",
       "      <td>18070505</td>\n",
       "      <td>5</td>\n",
       "      <td>671907264</td>\n",
       "      <td>Cheery</td>\n",
       "    </tr>\n",
       "  </tbody>\n",
       "</table>\n",
       "</div>"
      ],
      "text/plain": [
       "   CLIENT ID  NB PRODS   ORDER ID FRUIT_PRODUCT\n",
       "0   18070505         5  671907264         Apple\n",
       "1   18070505        10  671907264        Orange\n",
       "2   18070505         5  671907264          Kiwi\n",
       "3   18070505        10  671907264          Pear\n",
       "4   18070505         5  671907264        Cheery"
      ]
     },
     "execution_count": 13,
     "metadata": {},
     "output_type": "execute_result"
    }
   ],
   "source": [
    "orders.head()"
   ]
  },
  {
   "cell_type": "code",
   "execution_count": 14,
   "id": "c044ba87-6145-4cb1-babc-17ba2021b2fe",
   "metadata": {},
   "outputs": [
    {
     "name": "stdout",
     "output_type": "stream",
     "text": [
      "<class 'pandas.core.frame.DataFrame'>\n",
      "RangeIndex: 66912 entries, 0 to 66911\n",
      "Data columns (total 4 columns):\n",
      " #   Column         Non-Null Count  Dtype \n",
      "---  ------         --------------  ----- \n",
      " 0   CLIENT ID      66912 non-null  int64 \n",
      " 1   NB PRODS       66912 non-null  int64 \n",
      " 2   ORDER ID       66912 non-null  int64 \n",
      " 3   FRUIT_PRODUCT  66912 non-null  object\n",
      "dtypes: int64(3), object(1)\n",
      "memory usage: 2.0+ MB\n"
     ]
    }
   ],
   "source": [
    "orders.info()"
   ]
  },
  {
   "cell_type": "code",
   "execution_count": 15,
   "id": "300751d6-d74d-43c1-9faa-f242cd136bc5",
   "metadata": {},
   "outputs": [
    {
     "data": {
      "text/plain": [
       "616"
      ]
     },
     "execution_count": 15,
     "metadata": {},
     "output_type": "execute_result"
    }
   ],
   "source": [
    "orders.duplicated().sum()"
   ]
  },
  {
   "cell_type": "code",
   "execution_count": 16,
   "id": "633cb59d-29d3-489b-884e-e672eaed3f03",
   "metadata": {},
   "outputs": [],
   "source": [
    "orders = orders.drop_duplicates()"
   ]
  },
  {
   "cell_type": "code",
   "execution_count": 17,
   "id": "43d471fd-7283-40f3-bf4c-e0f1382b577f",
   "metadata": {},
   "outputs": [
    {
     "data": {
      "image/png": "[encoded data removed]",
      "text/plain": [
       "<Figure size 720x360 with 1 Axes>"
      ]
     },
     "metadata": {
      "needs_background": "light"
     },
     "output_type": "display_data"
    }
   ],
   "source": [
    "plt.figure(figsize = (10,5))\n",
    "sns.countplot(data = orders, x = 'FRUIT_PRODUCT')\n",
    "plt.xticks(rotation = 90)\n",
    "plt.show()"
   ]
  },
  {
   "cell_type": "code",
   "execution_count": 18,
   "id": "f3b22c0d-859a-4e74-8050-cbed7a26be50",
   "metadata": {},
   "outputs": [
    {
     "data": {
      "text/html": [
       "<div>\n",
       "<style scoped>\n",
       "    .dataframe tbody tr th:only-of-type {\n",
       "        vertical-align: middle;\n",
       "    }\n",
       "\n",
       "    .dataframe tbody tr th {\n",
       "        vertical-align: top;\n",
       "    }\n",
       "\n",
       "    .dataframe thead th {\n",
       "        text-align: right;\n",
       "    }\n",
       "</style>\n",
       "<table border=\"1\" class=\"dataframe\">\n",
       "  <thead>\n",
       "    <tr style=\"text-align: right;\">\n",
       "      <th></th>\n",
       "      <th>CLIENT ID</th>\n",
       "      <th>NB PRODS</th>\n",
       "      <th>ORDER ID</th>\n",
       "    </tr>\n",
       "  </thead>\n",
       "  <tbody>\n",
       "    <tr>\n",
       "      <th>count</th>\n",
       "      <td>66296.00</td>\n",
       "      <td>66296.00</td>\n",
       "      <td>66296.00</td>\n",
       "    </tr>\n",
       "    <tr>\n",
       "      <th>mean</th>\n",
       "      <td>26131168.85</td>\n",
       "      <td>4.54</td>\n",
       "      <td>672254208.52</td>\n",
       "    </tr>\n",
       "    <tr>\n",
       "      <th>std</th>\n",
       "      <td>8471058.31</td>\n",
       "      <td>5.80</td>\n",
       "      <td>3204864.21</td>\n",
       "    </tr>\n",
       "    <tr>\n",
       "      <th>min</th>\n",
       "      <td>18070505.00</td>\n",
       "      <td>-80.00</td>\n",
       "      <td>663833537.00</td>\n",
       "    </tr>\n",
       "    <tr>\n",
       "      <th>25%</th>\n",
       "      <td>20173789.25</td>\n",
       "      <td>1.00</td>\n",
       "      <td>669480518.00</td>\n",
       "    </tr>\n",
       "    <tr>\n",
       "      <th>50%</th>\n",
       "      <td>24378507.00</td>\n",
       "      <td>3.00</td>\n",
       "      <td>671997445.00</td>\n",
       "    </tr>\n",
       "    <tr>\n",
       "      <th>75%</th>\n",
       "      <td>25386797.25</td>\n",
       "      <td>5.00</td>\n",
       "      <td>675089321.00</td>\n",
       "    </tr>\n",
       "    <tr>\n",
       "      <th>max</th>\n",
       "      <td>48365861.00</td>\n",
       "      <td>198.00</td>\n",
       "      <td>683213167.00</td>\n",
       "    </tr>\n",
       "  </tbody>\n",
       "</table>\n",
       "</div>"
      ],
      "text/plain": [
       "        CLIENT ID  NB PRODS     ORDER ID\n",
       "count    66296.00  66296.00     66296.00\n",
       "mean  26131168.85      4.54 672254208.52\n",
       "std    8471058.31      5.80   3204864.21\n",
       "min   18070505.00    -80.00 663833537.00\n",
       "25%   20173789.25      1.00 669480518.00\n",
       "50%   24378507.00      3.00 671997445.00\n",
       "75%   25386797.25      5.00 675089321.00\n",
       "max   48365861.00    198.00 683213167.00"
      ]
     },
     "execution_count": 18,
     "metadata": {},
     "output_type": "execute_result"
    }
   ],
   "source": [
    "orders.describe()"
   ]
  },
  {
   "cell_type": "code",
   "execution_count": 19,
   "id": "abbb17ef-d39b-48e4-b147-95b32076889b",
   "metadata": {},
   "outputs": [],
   "source": [
    "def outliers_quantie(df, feature, param=1.5):  \n",
    "        \n",
    "    iqr_ = iqr(df[feature], nan_policy='omit')\n",
    "    q1 = np.nanpercentile(df[feature], 25)\n",
    "    q3 = np.nanpercentile(df[feature], 75)\n",
    "    \n",
    "    th1 = q1 - iqr_*1.5\n",
    "    th2 = q3 + iqr_*1.5\n",
    "    \n",
    "    return df[(df[feature] >= th1) & (df[feature] <= th2)].reset_index(drop=True)"
   ]
  },
  {
   "cell_type": "code",
   "execution_count": 20,
   "id": "3a0cee4c-bfdd-4741-944f-6617bf776de6",
   "metadata": {},
   "outputs": [
    {
     "data": {
      "text/html": [
       "<div>\n",
       "<style scoped>\n",
       "    .dataframe tbody tr th:only-of-type {\n",
       "        vertical-align: middle;\n",
       "    }\n",
       "\n",
       "    .dataframe tbody tr th {\n",
       "        vertical-align: top;\n",
       "    }\n",
       "\n",
       "    .dataframe thead th {\n",
       "        text-align: right;\n",
       "    }\n",
       "</style>\n",
       "<table border=\"1\" class=\"dataframe\">\n",
       "  <thead>\n",
       "    <tr style=\"text-align: right;\">\n",
       "      <th></th>\n",
       "      <th>CLIENT ID</th>\n",
       "      <th>NB PRODS</th>\n",
       "      <th>ORDER ID</th>\n",
       "      <th>FRUIT_PRODUCT</th>\n",
       "    </tr>\n",
       "  </thead>\n",
       "  <tbody>\n",
       "    <tr>\n",
       "      <th>0</th>\n",
       "      <td>18070505</td>\n",
       "      <td>5</td>\n",
       "      <td>671907264</td>\n",
       "      <td>Apple</td>\n",
       "    </tr>\n",
       "    <tr>\n",
       "      <th>1</th>\n",
       "      <td>18070505</td>\n",
       "      <td>10</td>\n",
       "      <td>671907264</td>\n",
       "      <td>Orange</td>\n",
       "    </tr>\n",
       "    <tr>\n",
       "      <th>2</th>\n",
       "      <td>18070505</td>\n",
       "      <td>5</td>\n",
       "      <td>671907264</td>\n",
       "      <td>Kiwi</td>\n",
       "    </tr>\n",
       "    <tr>\n",
       "      <th>3</th>\n",
       "      <td>18070505</td>\n",
       "      <td>10</td>\n",
       "      <td>671907264</td>\n",
       "      <td>Pear</td>\n",
       "    </tr>\n",
       "    <tr>\n",
       "      <th>4</th>\n",
       "      <td>18070505</td>\n",
       "      <td>5</td>\n",
       "      <td>671907264</td>\n",
       "      <td>Cheery</td>\n",
       "    </tr>\n",
       "    <tr>\n",
       "      <th>...</th>\n",
       "      <td>...</td>\n",
       "      <td>...</td>\n",
       "      <td>...</td>\n",
       "      <td>...</td>\n",
       "    </tr>\n",
       "    <tr>\n",
       "      <th>61555</th>\n",
       "      <td>48352045</td>\n",
       "      <td>2</td>\n",
       "      <td>670065547</td>\n",
       "      <td>Pineapple</td>\n",
       "    </tr>\n",
       "    <tr>\n",
       "      <th>61556</th>\n",
       "      <td>48352045</td>\n",
       "      <td>1</td>\n",
       "      <td>670065547</td>\n",
       "      <td>Apple</td>\n",
       "    </tr>\n",
       "    <tr>\n",
       "      <th>61557</th>\n",
       "      <td>48352045</td>\n",
       "      <td>2</td>\n",
       "      <td>670065547</td>\n",
       "      <td>Watermelon</td>\n",
       "    </tr>\n",
       "    <tr>\n",
       "      <th>61558</th>\n",
       "      <td>48352045</td>\n",
       "      <td>1</td>\n",
       "      <td>670065547</td>\n",
       "      <td>Grape</td>\n",
       "    </tr>\n",
       "    <tr>\n",
       "      <th>61559</th>\n",
       "      <td>48352045</td>\n",
       "      <td>1</td>\n",
       "      <td>670065547</td>\n",
       "      <td>Plum</td>\n",
       "    </tr>\n",
       "  </tbody>\n",
       "</table>\n",
       "<p>61560 rows × 4 columns</p>\n",
       "</div>"
      ],
      "text/plain": [
       "       CLIENT ID  NB PRODS   ORDER ID FRUIT_PRODUCT\n",
       "0       18070505         5  671907264         Apple\n",
       "1       18070505        10  671907264        Orange\n",
       "2       18070505         5  671907264          Kiwi\n",
       "3       18070505        10  671907264          Pear\n",
       "4       18070505         5  671907264        Cheery\n",
       "...          ...       ...        ...           ...\n",
       "61555   48352045         2  670065547     Pineapple\n",
       "61556   48352045         1  670065547         Apple\n",
       "61557   48352045         2  670065547    Watermelon\n",
       "61558   48352045         1  670065547         Grape\n",
       "61559   48352045         1  670065547          Plum\n",
       "\n",
       "[61560 rows x 4 columns]"
      ]
     },
     "execution_count": 20,
     "metadata": {},
     "output_type": "execute_result"
    }
   ],
   "source": [
    "outliers_quantie(orders,'NB PRODS')"
   ]
  },
  {
   "cell_type": "markdown",
   "id": "52a2cd66-7dfc-48eb-bd71-53a2b8db15ba",
   "metadata": {},
   "source": [
    "# Combinando Train y Test"
   ]
  },
  {
   "cell_type": "code",
   "execution_count": 21,
   "id": "97e5a46b-ad2e-4508-9808-70dce754975a",
   "metadata": {},
   "outputs": [
    {
     "data": {
      "text/html": [
       "<div>\n",
       "<style scoped>\n",
       "    .dataframe tbody tr th:only-of-type {\n",
       "        vertical-align: middle;\n",
       "    }\n",
       "\n",
       "    .dataframe tbody tr th {\n",
       "        vertical-align: top;\n",
       "    }\n",
       "\n",
       "    .dataframe thead th {\n",
       "        text-align: right;\n",
       "    }\n",
       "</style>\n",
       "<table border=\"1\" class=\"dataframe\">\n",
       "  <thead>\n",
       "    <tr style=\"text-align: right;\">\n",
       "      <th></th>\n",
       "      <th>AVG CONSO</th>\n",
       "      <th>AVG BASKET SIZE</th>\n",
       "      <th>RECEIVED_COMMUNICATION</th>\n",
       "    </tr>\n",
       "  </thead>\n",
       "  <tbody>\n",
       "    <tr>\n",
       "      <th>0</th>\n",
       "      <td>67,25</td>\n",
       "      <td>201,75</td>\n",
       "      <td>0</td>\n",
       "    </tr>\n",
       "    <tr>\n",
       "      <th>1</th>\n",
       "      <td>58,33</td>\n",
       "      <td>350</td>\n",
       "      <td>0</td>\n",
       "    </tr>\n",
       "    <tr>\n",
       "      <th>2</th>\n",
       "      <td>46,67</td>\n",
       "      <td>112</td>\n",
       "      <td>0</td>\n",
       "    </tr>\n",
       "    <tr>\n",
       "      <th>3</th>\n",
       "      <td>50</td>\n",
       "      <td>600</td>\n",
       "      <td>0</td>\n",
       "    </tr>\n",
       "    <tr>\n",
       "      <th>4</th>\n",
       "      <td>10</td>\n",
       "      <td>120</td>\n",
       "      <td>0</td>\n",
       "    </tr>\n",
       "    <tr>\n",
       "      <th>...</th>\n",
       "      <td>...</td>\n",
       "      <td>...</td>\n",
       "      <td>...</td>\n",
       "    </tr>\n",
       "    <tr>\n",
       "      <th>35898</th>\n",
       "      <td>154,83</td>\n",
       "      <td>109,29</td>\n",
       "      <td>1</td>\n",
       "    </tr>\n",
       "    <tr>\n",
       "      <th>35899</th>\n",
       "      <td>33,33</td>\n",
       "      <td>400</td>\n",
       "      <td>1</td>\n",
       "    </tr>\n",
       "    <tr>\n",
       "      <th>35900</th>\n",
       "      <td>25</td>\n",
       "      <td>150</td>\n",
       "      <td>0</td>\n",
       "    </tr>\n",
       "    <tr>\n",
       "      <th>35901</th>\n",
       "      <td>158,42</td>\n",
       "      <td>211,22</td>\n",
       "      <td>1</td>\n",
       "    </tr>\n",
       "    <tr>\n",
       "      <th>35902</th>\n",
       "      <td>110,83</td>\n",
       "      <td>133</td>\n",
       "      <td>1</td>\n",
       "    </tr>\n",
       "  </tbody>\n",
       "</table>\n",
       "<p>35903 rows × 3 columns</p>\n",
       "</div>"
      ],
      "text/plain": [
       "      AVG CONSO AVG BASKET SIZE  RECEIVED_COMMUNICATION\n",
       "0         67,25          201,75                       0\n",
       "1         58,33             350                       0\n",
       "2         46,67             112                       0\n",
       "3            50             600                       0\n",
       "4            10             120                       0\n",
       "...         ...             ...                     ...\n",
       "35898    154,83          109,29                       1\n",
       "35899     33,33             400                       1\n",
       "35900        25             150                       0\n",
       "35901    158,42          211,22                       1\n",
       "35902    110,83             133                       1\n",
       "\n",
       "[35903 rows x 3 columns]"
      ]
     },
     "execution_count": 21,
     "metadata": {},
     "output_type": "execute_result"
    }
   ],
   "source": [
    "target = train0['CLIENT_SEGMENT']\n",
    "test_id = test0[\"CLIENT ID\"]\n",
    "\n",
    "train1 = train0.drop(['CLIENT ID', 'CLIENT_SEGMENT'], axis=1)\n",
    "test1 = test0.drop('CLIENT ID', axis=1)\n",
    "\n",
    "data1 = pd.concat([train1, test1], axis=0).reset_index(drop=True)\n",
    "data1"
   ]
  },
  {
   "cell_type": "markdown",
   "id": "bf5cfe57-f394-4a9d-8d7a-8a6c4d43b1ab",
   "metadata": {},
   "source": [
    "# Limpieza de datos"
   ]
  },
  {
   "cell_type": "code",
   "execution_count": 22,
   "id": "a3cc19c2-4c4b-40dc-8071-49ba7569d0db",
   "metadata": {},
   "outputs": [],
   "source": [
    "data2 = data1.copy()"
   ]
  },
  {
   "cell_type": "markdown",
   "id": "f349710e-6478-4ffe-acd5-87ef9da227a4",
   "metadata": {},
   "source": [
    "## Verificando que los datos sean del tipo correcto"
   ]
  },
  {
   "cell_type": "code",
   "execution_count": 23,
   "id": "092516c2-81ec-4412-8f8c-1c4b88bae307",
   "metadata": {},
   "outputs": [
    {
     "name": "stdout",
     "output_type": "stream",
     "text": [
      "<class 'pandas.core.frame.DataFrame'>\n",
      "RangeIndex: 35903 entries, 0 to 35902\n",
      "Data columns (total 3 columns):\n",
      " #   Column                  Non-Null Count  Dtype \n",
      "---  ------                  --------------  ----- \n",
      " 0   AVG CONSO               35903 non-null  object\n",
      " 1   AVG BASKET SIZE         35903 non-null  object\n",
      " 2   RECEIVED_COMMUNICATION  35903 non-null  int64 \n",
      "dtypes: int64(1), object(2)\n",
      "memory usage: 841.6+ KB\n"
     ]
    }
   ],
   "source": [
    "data2.info()"
   ]
  },
  {
   "cell_type": "code",
   "execution_count": 24,
   "id": "ed43f8d5-fd77-46e2-a0d8-6e8d13e4f8c9",
   "metadata": {},
   "outputs": [],
   "source": [
    "data2['AVG CONSO'] = data2['AVG CONSO'].astype(str)"
   ]
  },
  {
   "cell_type": "code",
   "execution_count": 25,
   "id": "8fb3038a-3620-463d-bf4a-6ce2c187b721",
   "metadata": {},
   "outputs": [],
   "source": [
    "data2['AVG BASKET SIZE'] = data2[\"AVG BASKET SIZE\"].astype(str)"
   ]
  },
  {
   "cell_type": "code",
   "execution_count": 26,
   "id": "dbe5a97b-d80b-4ded-895b-c643b72029bd",
   "metadata": {},
   "outputs": [],
   "source": [
    "data2['AVG CONSO']=data2['AVG CONSO'].apply(lambda x: x.replace(',','.'))"
   ]
  },
  {
   "cell_type": "code",
   "execution_count": 27,
   "id": "78f779e8-ba2b-443b-b55e-d43258077628",
   "metadata": {},
   "outputs": [],
   "source": [
    "data2['AVG BASKET SIZE'] = data2[\"AVG BASKET SIZE\"].apply(lambda x: x.replace(',','.'))"
   ]
  },
  {
   "cell_type": "code",
   "execution_count": 28,
   "id": "0139fca9-2aed-4f0c-9e69-d3200cca1378",
   "metadata": {},
   "outputs": [],
   "source": [
    "data2['AVG CONSO'] = data2['AVG CONSO'].astype(float)"
   ]
  },
  {
   "cell_type": "code",
   "execution_count": 29,
   "id": "a6172281-3f82-4ea6-bd3b-3561c6e03eac",
   "metadata": {},
   "outputs": [],
   "source": [
    "data2['AVG BASKET SIZE'] = data2[\"AVG BASKET SIZE\"].astype(float)"
   ]
  },
  {
   "cell_type": "code",
   "execution_count": 30,
   "id": "d3017bae-12e6-403c-8403-9245b2346e12",
   "metadata": {},
   "outputs": [
    {
     "data": {
      "text/html": [
       "<div>\n",
       "<style scoped>\n",
       "    .dataframe tbody tr th:only-of-type {\n",
       "        vertical-align: middle;\n",
       "    }\n",
       "\n",
       "    .dataframe tbody tr th {\n",
       "        vertical-align: top;\n",
       "    }\n",
       "\n",
       "    .dataframe thead th {\n",
       "        text-align: right;\n",
       "    }\n",
       "</style>\n",
       "<table border=\"1\" class=\"dataframe\">\n",
       "  <thead>\n",
       "    <tr style=\"text-align: right;\">\n",
       "      <th></th>\n",
       "      <th>AVG CONSO</th>\n",
       "      <th>AVG BASKET SIZE</th>\n",
       "      <th>RECEIVED_COMMUNICATION</th>\n",
       "    </tr>\n",
       "  </thead>\n",
       "  <tbody>\n",
       "    <tr>\n",
       "      <th>count</th>\n",
       "      <td>35903.00</td>\n",
       "      <td>35903.00</td>\n",
       "      <td>35903.00</td>\n",
       "    </tr>\n",
       "    <tr>\n",
       "      <th>mean</th>\n",
       "      <td>64.54</td>\n",
       "      <td>181.22</td>\n",
       "      <td>0.51</td>\n",
       "    </tr>\n",
       "    <tr>\n",
       "      <th>std</th>\n",
       "      <td>64.38</td>\n",
       "      <td>129.59</td>\n",
       "      <td>0.50</td>\n",
       "    </tr>\n",
       "    <tr>\n",
       "      <th>min</th>\n",
       "      <td>0.83</td>\n",
       "      <td>10.00</td>\n",
       "      <td>0.00</td>\n",
       "    </tr>\n",
       "    <tr>\n",
       "      <th>25%</th>\n",
       "      <td>20.83</td>\n",
       "      <td>100.00</td>\n",
       "      <td>0.00</td>\n",
       "    </tr>\n",
       "    <tr>\n",
       "      <th>50%</th>\n",
       "      <td>50.00</td>\n",
       "      <td>160.00</td>\n",
       "      <td>1.00</td>\n",
       "    </tr>\n",
       "    <tr>\n",
       "      <th>75%</th>\n",
       "      <td>88.21</td>\n",
       "      <td>225.00</td>\n",
       "      <td>1.00</td>\n",
       "    </tr>\n",
       "    <tr>\n",
       "      <th>max</th>\n",
       "      <td>2433.33</td>\n",
       "      <td>3400.20</td>\n",
       "      <td>1.00</td>\n",
       "    </tr>\n",
       "  </tbody>\n",
       "</table>\n",
       "</div>"
      ],
      "text/plain": [
       "       AVG CONSO  AVG BASKET SIZE  RECEIVED_COMMUNICATION\n",
       "count   35903.00         35903.00                35903.00\n",
       "mean       64.54           181.22                    0.51\n",
       "std        64.38           129.59                    0.50\n",
       "min         0.83            10.00                    0.00\n",
       "25%        20.83           100.00                    0.00\n",
       "50%        50.00           160.00                    1.00\n",
       "75%        88.21           225.00                    1.00\n",
       "max      2433.33          3400.20                    1.00"
      ]
     },
     "execution_count": 30,
     "metadata": {},
     "output_type": "execute_result"
    }
   ],
   "source": [
    "data2.describe()"
   ]
  },
  {
   "cell_type": "code",
   "execution_count": 31,
   "id": "bdb09ae4-2076-4d20-9e45-2e6d5b48bf96",
   "metadata": {},
   "outputs": [
    {
     "data": {
      "image/png": "[encoded data removed]",
      "text/plain": [
       "<Figure size 360x360 with 1 Axes>"
      ]
     },
     "metadata": {
      "needs_background": "light"
     },
     "output_type": "display_data"
    }
   ],
   "source": [
    "sns.displot(data2['AVG CONSO']);"
   ]
  },
  {
   "cell_type": "code",
   "execution_count": 32,
   "id": "8a7bb1c3-7d88-457c-8f97-80af35c351e2",
   "metadata": {},
   "outputs": [
    {
     "data": {
      "image/png": "[encoded data removed]",
      "text/plain": [
       "<Figure size 360x360 with 1 Axes>"
      ]
     },
     "metadata": {
      "needs_background": "light"
     },
     "output_type": "display_data"
    }
   ],
   "source": [
    "sns.displot(data2['AVG BASKET SIZE']);"
   ]
  },
  {
   "cell_type": "code",
   "execution_count": 33,
   "id": "3217533c-6d6f-48a3-b8b8-253dfff2037c",
   "metadata": {},
   "outputs": [
    {
     "data": {
      "text/html": [
       "<div>\n",
       "<style scoped>\n",
       "    .dataframe tbody tr th:only-of-type {\n",
       "        vertical-align: middle;\n",
       "    }\n",
       "\n",
       "    .dataframe tbody tr th {\n",
       "        vertical-align: top;\n",
       "    }\n",
       "\n",
       "    .dataframe thead th {\n",
       "        text-align: right;\n",
       "    }\n",
       "</style>\n",
       "<table border=\"1\" class=\"dataframe\">\n",
       "  <thead>\n",
       "    <tr style=\"text-align: right;\">\n",
       "      <th></th>\n",
       "      <th>Feature</th>\n",
       "      <th>Skew</th>\n",
       "      <th>Absolute Skew</th>\n",
       "      <th>Skewed</th>\n",
       "    </tr>\n",
       "  </thead>\n",
       "  <tbody>\n",
       "    <tr>\n",
       "      <th>0</th>\n",
       "      <td>AVG CONSO</td>\n",
       "      <td>5.06</td>\n",
       "      <td>5.06</td>\n",
       "      <td>True</td>\n",
       "    </tr>\n",
       "    <tr>\n",
       "      <th>1</th>\n",
       "      <td>AVG BASKET SIZE</td>\n",
       "      <td>3.06</td>\n",
       "      <td>3.06</td>\n",
       "      <td>True</td>\n",
       "    </tr>\n",
       "    <tr>\n",
       "      <th>2</th>\n",
       "      <td>RECEIVED_COMMUNICATION</td>\n",
       "      <td>-0.03</td>\n",
       "      <td>0.03</td>\n",
       "      <td>False</td>\n",
       "    </tr>\n",
       "  </tbody>\n",
       "</table>\n",
       "</div>"
      ],
      "text/plain": [
       "                  Feature  Skew  Absolute Skew  Skewed\n",
       "0               AVG CONSO  5.06           5.06    True\n",
       "1         AVG BASKET SIZE  3.06           3.06    True\n",
       "2  RECEIVED_COMMUNICATION -0.03           0.03   False"
      ]
     },
     "execution_count": 33,
     "metadata": {},
     "output_type": "execute_result"
    }
   ],
   "source": [
    "skew_df = pd.DataFrame(data2.select_dtypes(np.number).columns, columns=['Feature'])\n",
    "skew_df['Skew'] = skew_df['Feature'].apply(lambda feature: scipy.stats.skew(data2[feature]))\n",
    "skew_df['Absolute Skew'] = skew_df['Skew'].apply(abs)\n",
    "skew_df['Skewed'] = skew_df['Absolute Skew'].apply(lambda x: True if x >= 0.5 else False)\n",
    "skew_df"
   ]
  },
  {
   "cell_type": "code",
   "execution_count": 34,
   "id": "2ff0d198-5918-495a-a9be-7866c6e7dd05",
   "metadata": {},
   "outputs": [],
   "source": [
    "for column in skew_df.query(\"Skewed == True\")['Feature'].values:\n",
    "    data2[column] = np.log(data2[column])"
   ]
  },
  {
   "cell_type": "code",
   "execution_count": 35,
   "id": "f331add3-7518-4291-9add-392866b6b3ca",
   "metadata": {},
   "outputs": [
    {
     "data": {
      "text/html": [
       "<div>\n",
       "<style scoped>\n",
       "    .dataframe tbody tr th:only-of-type {\n",
       "        vertical-align: middle;\n",
       "    }\n",
       "\n",
       "    .dataframe tbody tr th {\n",
       "        vertical-align: top;\n",
       "    }\n",
       "\n",
       "    .dataframe thead th {\n",
       "        text-align: right;\n",
       "    }\n",
       "</style>\n",
       "<table border=\"1\" class=\"dataframe\">\n",
       "  <thead>\n",
       "    <tr style=\"text-align: right;\">\n",
       "      <th></th>\n",
       "      <th>AVG CONSO</th>\n",
       "      <th>AVG BASKET SIZE</th>\n",
       "      <th>RECEIVED_COMMUNICATION</th>\n",
       "    </tr>\n",
       "  </thead>\n",
       "  <tbody>\n",
       "    <tr>\n",
       "      <th>0</th>\n",
       "      <td>4.21</td>\n",
       "      <td>5.31</td>\n",
       "      <td>0</td>\n",
       "    </tr>\n",
       "    <tr>\n",
       "      <th>1</th>\n",
       "      <td>4.07</td>\n",
       "      <td>5.86</td>\n",
       "      <td>0</td>\n",
       "    </tr>\n",
       "    <tr>\n",
       "      <th>2</th>\n",
       "      <td>3.84</td>\n",
       "      <td>4.72</td>\n",
       "      <td>0</td>\n",
       "    </tr>\n",
       "    <tr>\n",
       "      <th>3</th>\n",
       "      <td>3.91</td>\n",
       "      <td>6.40</td>\n",
       "      <td>0</td>\n",
       "    </tr>\n",
       "    <tr>\n",
       "      <th>4</th>\n",
       "      <td>2.30</td>\n",
       "      <td>4.79</td>\n",
       "      <td>0</td>\n",
       "    </tr>\n",
       "    <tr>\n",
       "      <th>...</th>\n",
       "      <td>...</td>\n",
       "      <td>...</td>\n",
       "      <td>...</td>\n",
       "    </tr>\n",
       "    <tr>\n",
       "      <th>35898</th>\n",
       "      <td>5.04</td>\n",
       "      <td>4.69</td>\n",
       "      <td>1</td>\n",
       "    </tr>\n",
       "    <tr>\n",
       "      <th>35899</th>\n",
       "      <td>3.51</td>\n",
       "      <td>5.99</td>\n",
       "      <td>1</td>\n",
       "    </tr>\n",
       "    <tr>\n",
       "      <th>35900</th>\n",
       "      <td>3.22</td>\n",
       "      <td>5.01</td>\n",
       "      <td>0</td>\n",
       "    </tr>\n",
       "    <tr>\n",
       "      <th>35901</th>\n",
       "      <td>5.07</td>\n",
       "      <td>5.35</td>\n",
       "      <td>1</td>\n",
       "    </tr>\n",
       "    <tr>\n",
       "      <th>35902</th>\n",
       "      <td>4.71</td>\n",
       "      <td>4.89</td>\n",
       "      <td>1</td>\n",
       "    </tr>\n",
       "  </tbody>\n",
       "</table>\n",
       "<p>35903 rows × 3 columns</p>\n",
       "</div>"
      ],
      "text/plain": [
       "       AVG CONSO  AVG BASKET SIZE  RECEIVED_COMMUNICATION\n",
       "0           4.21             5.31                       0\n",
       "1           4.07             5.86                       0\n",
       "2           3.84             4.72                       0\n",
       "3           3.91             6.40                       0\n",
       "4           2.30             4.79                       0\n",
       "...          ...              ...                     ...\n",
       "35898       5.04             4.69                       1\n",
       "35899       3.51             5.99                       1\n",
       "35900       3.22             5.01                       0\n",
       "35901       5.07             5.35                       1\n",
       "35902       4.71             4.89                       1\n",
       "\n",
       "[35903 rows x 3 columns]"
      ]
     },
     "execution_count": 35,
     "metadata": {},
     "output_type": "execute_result"
    }
   ],
   "source": [
    "outliers_quantie(data2,['AVG CONSO','AVG BASKET SIZE', 'RECEIVED_COMMUNICATION'])"
   ]
  },
  {
   "cell_type": "markdown",
   "id": "8887cb72-7a54-4ea4-947a-6a18fe07d0bd",
   "metadata": {},
   "source": [
    "# Split Data"
   ]
  },
  {
   "cell_type": "code",
   "execution_count": 36,
   "id": "a13c7de3-26e4-4117-aa1f-858e5e81e358",
   "metadata": {},
   "outputs": [],
   "source": [
    "train_final = data2.loc[:train0.index.max(), :].copy()\n",
    "test_final = data2.loc[train0.index.max() + 1:, :].reset_index(drop=True).copy()"
   ]
  },
  {
   "cell_type": "code",
   "execution_count": 37,
   "id": "3b9497ce-bc37-4cd9-bfc9-52b846bfc29d",
   "metadata": {
    "tags": []
   },
   "outputs": [
    {
     "data": {
      "text/html": [
       "<div>\n",
       "<style scoped>\n",
       "    .dataframe tbody tr th:only-of-type {\n",
       "        vertical-align: middle;\n",
       "    }\n",
       "\n",
       "    .dataframe tbody tr th {\n",
       "        vertical-align: top;\n",
       "    }\n",
       "\n",
       "    .dataframe thead th {\n",
       "        text-align: right;\n",
       "    }\n",
       "</style>\n",
       "<table border=\"1\" class=\"dataframe\">\n",
       "  <thead>\n",
       "    <tr style=\"text-align: right;\">\n",
       "      <th></th>\n",
       "      <th>AVG CONSO</th>\n",
       "      <th>AVG BASKET SIZE</th>\n",
       "      <th>RECEIVED_COMMUNICATION</th>\n",
       "    </tr>\n",
       "  </thead>\n",
       "  <tbody>\n",
       "    <tr>\n",
       "      <th>0</th>\n",
       "      <td>4.21</td>\n",
       "      <td>5.31</td>\n",
       "      <td>0</td>\n",
       "    </tr>\n",
       "    <tr>\n",
       "      <th>1</th>\n",
       "      <td>4.07</td>\n",
       "      <td>5.86</td>\n",
       "      <td>0</td>\n",
       "    </tr>\n",
       "    <tr>\n",
       "      <th>2</th>\n",
       "      <td>3.84</td>\n",
       "      <td>4.72</td>\n",
       "      <td>0</td>\n",
       "    </tr>\n",
       "    <tr>\n",
       "      <th>3</th>\n",
       "      <td>3.91</td>\n",
       "      <td>6.40</td>\n",
       "      <td>0</td>\n",
       "    </tr>\n",
       "    <tr>\n",
       "      <th>4</th>\n",
       "      <td>2.30</td>\n",
       "      <td>4.79</td>\n",
       "      <td>0</td>\n",
       "    </tr>\n",
       "    <tr>\n",
       "      <th>...</th>\n",
       "      <td>...</td>\n",
       "      <td>...</td>\n",
       "      <td>...</td>\n",
       "    </tr>\n",
       "    <tr>\n",
       "      <th>35879</th>\n",
       "      <td>2.53</td>\n",
       "      <td>5.01</td>\n",
       "      <td>1</td>\n",
       "    </tr>\n",
       "    <tr>\n",
       "      <th>35880</th>\n",
       "      <td>3.62</td>\n",
       "      <td>4.72</td>\n",
       "      <td>1</td>\n",
       "    </tr>\n",
       "    <tr>\n",
       "      <th>35881</th>\n",
       "      <td>3.73</td>\n",
       "      <td>4.83</td>\n",
       "      <td>1</td>\n",
       "    </tr>\n",
       "    <tr>\n",
       "      <th>35882</th>\n",
       "      <td>4.14</td>\n",
       "      <td>4.83</td>\n",
       "      <td>1</td>\n",
       "    </tr>\n",
       "    <tr>\n",
       "      <th>35883</th>\n",
       "      <td>4.49</td>\n",
       "      <td>5.03</td>\n",
       "      <td>1</td>\n",
       "    </tr>\n",
       "  </tbody>\n",
       "</table>\n",
       "<p>35884 rows × 3 columns</p>\n",
       "</div>"
      ],
      "text/plain": [
       "       AVG CONSO  AVG BASKET SIZE  RECEIVED_COMMUNICATION\n",
       "0           4.21             5.31                       0\n",
       "1           4.07             5.86                       0\n",
       "2           3.84             4.72                       0\n",
       "3           3.91             6.40                       0\n",
       "4           2.30             4.79                       0\n",
       "...          ...              ...                     ...\n",
       "35879       2.53             5.01                       1\n",
       "35880       3.62             4.72                       1\n",
       "35881       3.73             4.83                       1\n",
       "35882       4.14             4.83                       1\n",
       "35883       4.49             5.03                       1\n",
       "\n",
       "[35884 rows x 3 columns]"
      ]
     },
     "execution_count": 37,
     "metadata": {},
     "output_type": "execute_result"
    }
   ],
   "source": [
    "train_final"
   ]
  },
  {
   "cell_type": "code",
   "execution_count": 38,
   "id": "3f85fa47-63b0-48df-bd9d-654d130e489c",
   "metadata": {
    "tags": []
   },
   "outputs": [
    {
     "data": {
      "text/html": [
       "<div>\n",
       "<style scoped>\n",
       "    .dataframe tbody tr th:only-of-type {\n",
       "        vertical-align: middle;\n",
       "    }\n",
       "\n",
       "    .dataframe tbody tr th {\n",
       "        vertical-align: top;\n",
       "    }\n",
       "\n",
       "    .dataframe thead th {\n",
       "        text-align: right;\n",
       "    }\n",
       "</style>\n",
       "<table border=\"1\" class=\"dataframe\">\n",
       "  <thead>\n",
       "    <tr style=\"text-align: right;\">\n",
       "      <th></th>\n",
       "      <th>AVG CONSO</th>\n",
       "      <th>AVG BASKET SIZE</th>\n",
       "      <th>RECEIVED_COMMUNICATION</th>\n",
       "    </tr>\n",
       "  </thead>\n",
       "  <tbody>\n",
       "    <tr>\n",
       "      <th>0</th>\n",
       "      <td>2.12</td>\n",
       "      <td>4.61</td>\n",
       "      <td>0</td>\n",
       "    </tr>\n",
       "    <tr>\n",
       "      <th>1</th>\n",
       "      <td>4.54</td>\n",
       "      <td>5.23</td>\n",
       "      <td>1</td>\n",
       "    </tr>\n",
       "    <tr>\n",
       "      <th>2</th>\n",
       "      <td>3.82</td>\n",
       "      <td>4.92</td>\n",
       "      <td>0</td>\n",
       "    </tr>\n",
       "    <tr>\n",
       "      <th>3</th>\n",
       "      <td>2.81</td>\n",
       "      <td>5.30</td>\n",
       "      <td>1</td>\n",
       "    </tr>\n",
       "    <tr>\n",
       "      <th>4</th>\n",
       "      <td>2.59</td>\n",
       "      <td>5.08</td>\n",
       "      <td>0</td>\n",
       "    </tr>\n",
       "    <tr>\n",
       "      <th>5</th>\n",
       "      <td>2.81</td>\n",
       "      <td>5.30</td>\n",
       "      <td>0</td>\n",
       "    </tr>\n",
       "    <tr>\n",
       "      <th>6</th>\n",
       "      <td>2.12</td>\n",
       "      <td>4.61</td>\n",
       "      <td>1</td>\n",
       "    </tr>\n",
       "    <tr>\n",
       "      <th>7</th>\n",
       "      <td>3.99</td>\n",
       "      <td>5.09</td>\n",
       "      <td>0</td>\n",
       "    </tr>\n",
       "    <tr>\n",
       "      <th>8</th>\n",
       "      <td>3.28</td>\n",
       "      <td>4.67</td>\n",
       "      <td>0</td>\n",
       "    </tr>\n",
       "    <tr>\n",
       "      <th>9</th>\n",
       "      <td>5.12</td>\n",
       "      <td>5.81</td>\n",
       "      <td>1</td>\n",
       "    </tr>\n",
       "    <tr>\n",
       "      <th>10</th>\n",
       "      <td>4.98</td>\n",
       "      <td>5.67</td>\n",
       "      <td>1</td>\n",
       "    </tr>\n",
       "    <tr>\n",
       "      <th>11</th>\n",
       "      <td>5.44</td>\n",
       "      <td>5.44</td>\n",
       "      <td>1</td>\n",
       "    </tr>\n",
       "    <tr>\n",
       "      <th>12</th>\n",
       "      <td>4.45</td>\n",
       "      <td>5.84</td>\n",
       "      <td>1</td>\n",
       "    </tr>\n",
       "    <tr>\n",
       "      <th>13</th>\n",
       "      <td>2.01</td>\n",
       "      <td>3.81</td>\n",
       "      <td>1</td>\n",
       "    </tr>\n",
       "    <tr>\n",
       "      <th>14</th>\n",
       "      <td>5.04</td>\n",
       "      <td>4.69</td>\n",
       "      <td>1</td>\n",
       "    </tr>\n",
       "    <tr>\n",
       "      <th>15</th>\n",
       "      <td>3.51</td>\n",
       "      <td>5.99</td>\n",
       "      <td>1</td>\n",
       "    </tr>\n",
       "    <tr>\n",
       "      <th>16</th>\n",
       "      <td>3.22</td>\n",
       "      <td>5.01</td>\n",
       "      <td>0</td>\n",
       "    </tr>\n",
       "    <tr>\n",
       "      <th>17</th>\n",
       "      <td>5.07</td>\n",
       "      <td>5.35</td>\n",
       "      <td>1</td>\n",
       "    </tr>\n",
       "    <tr>\n",
       "      <th>18</th>\n",
       "      <td>4.71</td>\n",
       "      <td>4.89</td>\n",
       "      <td>1</td>\n",
       "    </tr>\n",
       "  </tbody>\n",
       "</table>\n",
       "</div>"
      ],
      "text/plain": [
       "    AVG CONSO  AVG BASKET SIZE  RECEIVED_COMMUNICATION\n",
       "0        2.12             4.61                       0\n",
       "1        4.54             5.23                       1\n",
       "2        3.82             4.92                       0\n",
       "3        2.81             5.30                       1\n",
       "4        2.59             5.08                       0\n",
       "5        2.81             5.30                       0\n",
       "6        2.12             4.61                       1\n",
       "7        3.99             5.09                       0\n",
       "8        3.28             4.67                       0\n",
       "9        5.12             5.81                       1\n",
       "10       4.98             5.67                       1\n",
       "11       5.44             5.44                       1\n",
       "12       4.45             5.84                       1\n",
       "13       2.01             3.81                       1\n",
       "14       5.04             4.69                       1\n",
       "15       3.51             5.99                       1\n",
       "16       3.22             5.01                       0\n",
       "17       5.07             5.35                       1\n",
       "18       4.71             4.89                       1"
      ]
     },
     "execution_count": 38,
     "metadata": {},
     "output_type": "execute_result"
    }
   ],
   "source": [
    "test_final"
   ]
  },
  {
   "cell_type": "code",
   "execution_count": 39,
   "id": "812a8daf-92cf-4987-a409-b2543b7d7732",
   "metadata": {},
   "outputs": [],
   "source": [
    "final_training_data = pd.concat([train_final, target], axis=1)"
   ]
  },
  {
   "cell_type": "code",
   "execution_count": 40,
   "id": "84009eaa-6998-4fcf-a998-7cc1667c9b93",
   "metadata": {},
   "outputs": [
    {
     "data": {
      "text/html": [
       "<div>\n",
       "<style scoped>\n",
       "    .dataframe tbody tr th:only-of-type {\n",
       "        vertical-align: middle;\n",
       "    }\n",
       "\n",
       "    .dataframe tbody tr th {\n",
       "        vertical-align: top;\n",
       "    }\n",
       "\n",
       "    .dataframe thead th {\n",
       "        text-align: right;\n",
       "    }\n",
       "</style>\n",
       "<table border=\"1\" class=\"dataframe\">\n",
       "  <thead>\n",
       "    <tr style=\"text-align: right;\">\n",
       "      <th></th>\n",
       "      <th>AVG CONSO</th>\n",
       "      <th>AVG BASKET SIZE</th>\n",
       "      <th>RECEIVED_COMMUNICATION</th>\n",
       "      <th>CLIENT_SEGMENT</th>\n",
       "    </tr>\n",
       "  </thead>\n",
       "  <tbody>\n",
       "    <tr>\n",
       "      <th>0</th>\n",
       "      <td>4.21</td>\n",
       "      <td>5.31</td>\n",
       "      <td>0</td>\n",
       "      <td>6</td>\n",
       "    </tr>\n",
       "    <tr>\n",
       "      <th>1</th>\n",
       "      <td>4.07</td>\n",
       "      <td>5.86</td>\n",
       "      <td>0</td>\n",
       "      <td>2</td>\n",
       "    </tr>\n",
       "    <tr>\n",
       "      <th>2</th>\n",
       "      <td>3.84</td>\n",
       "      <td>4.72</td>\n",
       "      <td>0</td>\n",
       "      <td>3</td>\n",
       "    </tr>\n",
       "    <tr>\n",
       "      <th>3</th>\n",
       "      <td>3.91</td>\n",
       "      <td>6.40</td>\n",
       "      <td>0</td>\n",
       "      <td>2</td>\n",
       "    </tr>\n",
       "    <tr>\n",
       "      <th>4</th>\n",
       "      <td>2.30</td>\n",
       "      <td>4.79</td>\n",
       "      <td>0</td>\n",
       "      <td>4</td>\n",
       "    </tr>\n",
       "    <tr>\n",
       "      <th>...</th>\n",
       "      <td>...</td>\n",
       "      <td>...</td>\n",
       "      <td>...</td>\n",
       "      <td>...</td>\n",
       "    </tr>\n",
       "    <tr>\n",
       "      <th>35879</th>\n",
       "      <td>2.53</td>\n",
       "      <td>5.01</td>\n",
       "      <td>1</td>\n",
       "      <td>4</td>\n",
       "    </tr>\n",
       "    <tr>\n",
       "      <th>35880</th>\n",
       "      <td>3.62</td>\n",
       "      <td>4.72</td>\n",
       "      <td>1</td>\n",
       "      <td>3</td>\n",
       "    </tr>\n",
       "    <tr>\n",
       "      <th>35881</th>\n",
       "      <td>3.73</td>\n",
       "      <td>4.83</td>\n",
       "      <td>1</td>\n",
       "      <td>3</td>\n",
       "    </tr>\n",
       "    <tr>\n",
       "      <th>35882</th>\n",
       "      <td>4.14</td>\n",
       "      <td>4.83</td>\n",
       "      <td>1</td>\n",
       "      <td>3</td>\n",
       "    </tr>\n",
       "    <tr>\n",
       "      <th>35883</th>\n",
       "      <td>4.49</td>\n",
       "      <td>5.03</td>\n",
       "      <td>1</td>\n",
       "      <td>1</td>\n",
       "    </tr>\n",
       "  </tbody>\n",
       "</table>\n",
       "<p>35884 rows × 4 columns</p>\n",
       "</div>"
      ],
      "text/plain": [
       "       AVG CONSO  AVG BASKET SIZE  RECEIVED_COMMUNICATION  CLIENT_SEGMENT\n",
       "0           4.21             5.31                       0               6\n",
       "1           4.07             5.86                       0               2\n",
       "2           3.84             4.72                       0               3\n",
       "3           3.91             6.40                       0               2\n",
       "4           2.30             4.79                       0               4\n",
       "...          ...              ...                     ...             ...\n",
       "35879       2.53             5.01                       1               4\n",
       "35880       3.62             4.72                       1               3\n",
       "35881       3.73             4.83                       1               3\n",
       "35882       4.14             4.83                       1               3\n",
       "35883       4.49             5.03                       1               1\n",
       "\n",
       "[35884 rows x 4 columns]"
      ]
     },
     "execution_count": 40,
     "metadata": {},
     "output_type": "execute_result"
    }
   ],
   "source": [
    "final_training_data"
   ]
  },
  {
   "cell_type": "code",
   "execution_count": 41,
   "id": "93fc98cb-2866-450b-a927-240160ad1420",
   "metadata": {},
   "outputs": [
    {
     "data": {
      "image/png": "[encoded data removed]",
      "text/plain": [
       "<Figure size 1080x360 with 2 Axes>"
      ]
     },
     "metadata": {
      "needs_background": "light"
     },
     "output_type": "display_data"
    }
   ],
   "source": [
    "plt.figure(figsize=(15,5))\n",
    "sns.heatmap(final_training_data.corr(),annot=True,cmap=\"YlGnBu\", linewidths=.5,fmt='.2f')\n",
    "plt.show()"
   ]
  },
  {
   "cell_type": "code",
   "execution_count": 42,
   "id": "f74062e4-5583-42de-8e53-75c51a0934ba",
   "metadata": {},
   "outputs": [],
   "source": [
    "X = final_training_data.drop(['CLIENT_SEGMENT'], axis = 1)\n",
    "y = final_training_data['CLIENT_SEGMENT']"
   ]
  },
  {
   "cell_type": "code",
   "execution_count": 43,
   "id": "c492dd17-ce56-4a84-bf0c-c7ca9c542c34",
   "metadata": {},
   "outputs": [],
   "source": [
    "X_train, X_test, y_train, y_test = train_test_split(X,y, test_size=0.2, random_state=1, stratify=final_training_data['CLIENT_SEGMENT'])"
   ]
  },
  {
   "cell_type": "code",
   "execution_count": 44,
   "id": "bec0a8b3-8f56-4966-9cf1-ef2353dbdb1c",
   "metadata": {},
   "outputs": [],
   "source": [
    "scaler = StandardScaler()"
   ]
  },
  {
   "cell_type": "code",
   "execution_count": 47,
   "id": "47a56775-0373-48be-a064-5b23224bbec0",
   "metadata": {},
   "outputs": [],
   "source": [
    "sm = SMOTE(random_state=42)\n",
    "X_res, y_res = sm.fit_resample(X_train, y_train)"
   ]
  },
  {
   "cell_type": "code",
   "execution_count": 48,
   "id": "c02f64d2-0cfd-4111-9c8a-3ac5bf202925",
   "metadata": {},
   "outputs": [
    {
     "data": {
      "text/plain": [
       "1    6498\n",
       "2    6498\n",
       "3    6498\n",
       "4    6498\n",
       "5    6498\n",
       "6    6498\n",
       "Name: CLIENT_SEGMENT, dtype: int64"
      ]
     },
     "execution_count": 48,
     "metadata": {},
     "output_type": "execute_result"
    }
   ],
   "source": [
    "y_res.value_counts()"
   ]
  },
  {
   "cell_type": "code",
   "execution_count": 54,
   "id": "d2216576-3d69-4a82-a1c2-d349cff9ed52",
   "metadata": {},
   "outputs": [],
   "source": [
    "x_res_st = scaler.fit_transform(X_res)"
   ]
  },
  {
   "cell_type": "code",
   "execution_count": 55,
   "id": "ea49dcde-93c1-45d4-bbd8-297bfd2e75bf",
   "metadata": {},
   "outputs": [],
   "source": [
    "x_test_st = scaler.fit_transform(X_test)"
   ]
  },
  {
   "cell_type": "code",
   "execution_count": 56,
   "id": "4b2f4f50-7589-4d8b-81a4-9896784a5c86",
   "metadata": {},
   "outputs": [],
   "source": [
    "test_final_st = scaler.fit_transform(test_final)"
   ]
  },
  {
   "cell_type": "code",
   "execution_count": 138,
   "id": "1283634c-1182-4dbb-9ca4-e84837e8757d",
   "metadata": {},
   "outputs": [],
   "source": [
    "layers = [\n",
    "    keras.layers.Dense(500, activation = 'relu',input_shape = X_res.shape[1:]),\n",
    "    keras.layers.Dense(units = 300, activation='relu'),\n",
    "    keras.layers.Dense(units = 200, activation='relu'),\n",
    "    keras.layers.Dense(units = 50, activation='relu'),\n",
    "    keras.layers.Dense(units = 7, activation='softmax')\n",
    "]\n",
    "\n",
    "model = keras.models.Sequential(layers)"
   ]
  },
  {
   "cell_type": "code",
   "execution_count": 139,
   "id": "caaa2d39-3291-4398-bf91-e22fad89466f",
   "metadata": {},
   "outputs": [
    {
     "name": "stdout",
     "output_type": "stream",
     "text": [
      "<keras.layers.core.Dense object at 0x7fbca75b24c0>\n"
     ]
    }
   ],
   "source": [
    "print(model.layers[1])"
   ]
  },
  {
   "cell_type": "code",
   "execution_count": 140,
   "id": "3033244f-f8bc-44c1-a680-a6ba23c4e5d0",
   "metadata": {},
   "outputs": [],
   "source": [
    "from keras import backend as K\n",
    "\n",
    "y_pred = model.predict(x_test_st)\n",
    "\n",
    "def recall_m(y_test, y_pred):\n",
    "    true_positives = K.sum(K.round(K.clip(y_test * y_pred, 0, 1)))\n",
    "    possible_positives = K.sum(K.round(K.clip(y_test, 0, 1)))\n",
    "    recall = true_positives / (possible_positives + K.epsilon())\n",
    "    return recall\n",
    "\n",
    "def precision_m(y_test, y_pred):\n",
    "    true_positives = K.sum(K.round(K.clip(y_test * y_pred, 0, 1)))\n",
    "    predicted_positives = K.sum(K.round(K.clip(y_pred, 0, 1)))\n",
    "    precision = true_positives / (predicted_positives + K.epsilon())\n",
    "    return precision\n",
    "\n",
    "def f1_m(y_test, y_pred):\n",
    "    precision = precision_m(y_test, y_pred)\n",
    "    recall = recall_m(y_test, y_pred)\n",
    "    return 2*((precision*recall)/(precision+recall+K.epsilon()))\n"
   ]
  },
  {
   "cell_type": "code",
   "execution_count": 141,
   "id": "79e5618f-754b-4f1d-8e22-a5d87ad181a0",
   "metadata": {},
   "outputs": [],
   "source": [
    "from keras import metrics\n",
    "model.compile(\n",
    "    optimizer = \"adam\",\n",
    "    loss = \"sparse_categorical_crossentropy\",\n",
    "    metrics=['acc'])\n"
   ]
  },
  {
   "cell_type": "code",
   "execution_count": 142,
   "id": "ac2eaeee-3429-4944-b495-6161d74a4813",
   "metadata": {},
   "outputs": [
    {
     "name": "stdout",
     "output_type": "stream",
     "text": [
      "Epoch 1/30\n",
      "39/39 [==============================] - 1s 21ms/step - loss: 1.1478 - acc: 0.5562 - val_loss: 0.7961 - val_acc: 0.7326\n",
      "Epoch 2/30\n",
      "39/39 [==============================] - 1s 19ms/step - loss: 0.7535 - acc: 0.7117 - val_loss: 0.7358 - val_acc: 0.7385\n",
      "Epoch 3/30\n",
      "39/39 [==============================] - 1s 15ms/step - loss: 0.7164 - acc: 0.7160 - val_loss: 0.7033 - val_acc: 0.7330\n",
      "Epoch 4/30\n",
      "39/39 [==============================] - 1s 15ms/step - loss: 0.7084 - acc: 0.7161 - val_loss: 0.6879 - val_acc: 0.7449\n",
      "Epoch 5/30\n",
      "39/39 [==============================] - 1s 15ms/step - loss: 0.6913 - acc: 0.7214 - val_loss: 0.7135 - val_acc: 0.7226\n",
      "Epoch 6/30\n",
      "39/39 [==============================] - 1s 14ms/step - loss: 0.6926 - acc: 0.7180 - val_loss: 0.7287 - val_acc: 0.7144\n",
      "Epoch 7/30\n",
      "39/39 [==============================] - 1s 15ms/step - loss: 0.6785 - acc: 0.7252 - val_loss: 0.6633 - val_acc: 0.7439\n",
      "Epoch 8/30\n",
      "39/39 [==============================] - 1s 16ms/step - loss: 0.6783 - acc: 0.7245 - val_loss: 0.6997 - val_acc: 0.7344\n",
      "Epoch 9/30\n",
      "39/39 [==============================] - 1s 15ms/step - loss: 0.6743 - acc: 0.7245 - val_loss: 0.6922 - val_acc: 0.7344\n",
      "Epoch 10/30\n",
      "39/39 [==============================] - 1s 15ms/step - loss: 0.6725 - acc: 0.7253 - val_loss: 0.7324 - val_acc: 0.7230\n",
      "Epoch 11/30\n",
      "39/39 [==============================] - 1s 15ms/step - loss: 0.6673 - acc: 0.7274 - val_loss: 0.6796 - val_acc: 0.7342\n",
      "Epoch 12/30\n",
      "39/39 [==============================] - 1s 20ms/step - loss: 0.6693 - acc: 0.7258 - val_loss: 0.6783 - val_acc: 0.7413\n",
      "Epoch 13/30\n",
      "39/39 [==============================] - 1s 18ms/step - loss: 0.6653 - acc: 0.7267 - val_loss: 0.6798 - val_acc: 0.7362\n",
      "Epoch 14/30\n",
      "39/39 [==============================] - 1s 17ms/step - loss: 0.6633 - acc: 0.7278 - val_loss: 0.6715 - val_acc: 0.7400\n",
      "Epoch 15/30\n",
      "39/39 [==============================] - 1s 16ms/step - loss: 0.6639 - acc: 0.7252 - val_loss: 0.7154 - val_acc: 0.7142\n",
      "Epoch 16/30\n",
      "39/39 [==============================] - 1s 15ms/step - loss: 0.6644 - acc: 0.7262 - val_loss: 0.6798 - val_acc: 0.7220\n",
      "Epoch 17/30\n",
      "39/39 [==============================] - 1s 15ms/step - loss: 0.6645 - acc: 0.7256 - val_loss: 0.6615 - val_acc: 0.7424\n",
      "Epoch 18/30\n",
      "39/39 [==============================] - 1s 15ms/step - loss: 0.6610 - acc: 0.7294 - val_loss: 0.7519 - val_acc: 0.6939\n",
      "Epoch 19/30\n",
      "39/39 [==============================] - 1s 15ms/step - loss: 0.6599 - acc: 0.7279 - val_loss: 0.7137 - val_acc: 0.7307\n",
      "Epoch 20/30\n",
      "39/39 [==============================] - 1s 19ms/step - loss: 0.6544 - acc: 0.7308 - val_loss: 0.6883 - val_acc: 0.7332\n",
      "Epoch 21/30\n",
      "39/39 [==============================] - 1s 17ms/step - loss: 0.6541 - acc: 0.7297 - val_loss: 0.6800 - val_acc: 0.7424\n",
      "Epoch 22/30\n",
      "39/39 [==============================] - 1s 16ms/step - loss: 0.6539 - acc: 0.7294 - val_loss: 0.7023 - val_acc: 0.7400\n",
      "Epoch 23/30\n",
      "39/39 [==============================] - 1s 15ms/step - loss: 0.6584 - acc: 0.7275 - val_loss: 0.7284 - val_acc: 0.7148\n",
      "Epoch 24/30\n",
      "39/39 [==============================] - 1s 16ms/step - loss: 0.6554 - acc: 0.7303 - val_loss: 0.7086 - val_acc: 0.7390\n",
      "Epoch 25/30\n",
      "39/39 [==============================] - 1s 20ms/step - loss: 0.6561 - acc: 0.7300 - val_loss: 0.7065 - val_acc: 0.7273\n",
      "Epoch 26/30\n",
      "39/39 [==============================] - 1s 15ms/step - loss: 0.6553 - acc: 0.7298 - val_loss: 0.6744 - val_acc: 0.7493\n",
      "Epoch 27/30\n",
      "39/39 [==============================] - 1s 17ms/step - loss: 0.6518 - acc: 0.7286 - val_loss: 0.6757 - val_acc: 0.7386\n",
      "Epoch 28/30\n",
      "39/39 [==============================] - 1s 16ms/step - loss: 0.6543 - acc: 0.7291 - val_loss: 0.7126 - val_acc: 0.7339\n",
      "Epoch 29/30\n",
      "39/39 [==============================] - 1s 15ms/step - loss: 0.6532 - acc: 0.7286 - val_loss: 0.6902 - val_acc: 0.7371\n",
      "Epoch 30/30\n",
      "39/39 [==============================] - 1s 20ms/step - loss: 0.6520 - acc: 0.7295 - val_loss: 0.6902 - val_acc: 0.7401\n"
     ]
    }
   ],
   "source": [
    "checkpoint_cb = keras.callbacks.ModelCheckpoint(\"callback_model.h5\")\n",
    "history = model.fit(\n",
    "    x_res_st,\n",
    "    y_res,\n",
    "    batch_size = 1000,\n",
    "    epochs = 30,\n",
    "    validation_data = (x_test_st, y_test),\n",
    "    callbacks = [checkpoint_cb])"
   ]
  },
  {
   "cell_type": "code",
   "execution_count": 143,
   "id": "37922533-af1f-4ad2-9729-c056c4ad1594",
   "metadata": {},
   "outputs": [
    {
     "name": "stdout",
     "output_type": "stream",
     "text": [
      "225/225 [==============================] - 0s 1ms/step - loss: 0.6902 - acc: 0.7401\n",
      "[0.690155565738678, 0.7401421070098877]\n"
     ]
    }
   ],
   "source": [
    "acc_test = model.evaluate(x_test_st, y_test)\n",
    "print(acc_test)"
   ]
  }
 ],
 "metadata": {
  "kernelspec": {
   "display_name": "Python 3 (ipykernel)",
   "language": "python",
   "name": "python3"
  },
  "language_info": {
   "codemirror_mode": {
    "name": "ipython",
    "version": 3
   },
   "file_extension": ".py",
   "mimetype": "text/x-python",
   "name": "python",
   "nbconvert_exporter": "python",
   "pygments_lexer": "ipython3",
   "version": "3.8.8"
  }
 },
 "nbformat": 4,
 "nbformat_minor": 5
}
